{
  "nbformat": 4,
  "nbformat_minor": 0,
  "metadata": {
    "colab": {
      "provenance": []
    },
    "kernelspec": {
      "name": "python3",
      "display_name": "Python 3"
    },
    "language_info": {
      "name": "python"
    }
  },
  "cells": [
    {
      "cell_type": "markdown",
      "source": [
        "#Assignment 3"
      ],
      "metadata": {
        "id": "HQiu5TBYV086"
      }
    },
    {
      "cell_type": "markdown",
      "source": [
        "1. Create a layout with three boxes side by side using Flexbox. The first box\n",
        "should have twice the width of the other two. Provide the HTML and CSS code\n",
        "snippets"
      ],
      "metadata": {
        "id": "ibcpyvqnV8q4"
      }
    },
    {
      "cell_type": "markdown",
      "source": [
        "Answer:"
      ],
      "metadata": {
        "id": "Ih9pWtdFWErl"
      }
    },
    {
      "cell_type": "code",
      "source": [
        "<div class=\"flex-container\">\n",
        "  <div class=\"box box1\">Box 1</div>\n",
        "  <div class=\"box box2\">Box 2</div>\n",
        "  <div class=\"box box3\">Box 3</div>\n",
        "</div>\n"
      ],
      "metadata": {
        "id": "zUQj31d5WIwl"
      },
      "execution_count": null,
      "outputs": []
    },
    {
      "cell_type": "code",
      "source": [
        ".flex-container {\n",
        "  display: flex;\n",
        "}\n",
        "\n",
        ".box {\n",
        "  padding: 20px;\n",
        "  color: white;\n",
        "  text-align: center;\n",
        "}\n",
        "\n",
        ".box1 {\n",
        "  flex: 2;\n",
        "  background-color: red;\n",
        "}\n",
        "\n",
        ".box2, .box3 {\n",
        "  flex: 1;\n",
        "  background-color: green;\n",
        "}\n"
      ],
      "metadata": {
        "id": "VS8DTC07WM4L"
      },
      "execution_count": null,
      "outputs": []
    },
    {
      "cell_type": "markdown",
      "source": [
        "2. Using CSS Grid, create a 2x2 grid layout where the first row spans two\n",
        "columns, and the second row has two equal columns. Provide the HTML and CSS code\n",
        "snippets."
      ],
      "metadata": {
        "id": "7ZqAllzMWPwg"
      }
    },
    {
      "cell_type": "markdown",
      "source": [
        "Answer:"
      ],
      "metadata": {
        "id": "zX9ebQ1SWWwM"
      }
    },
    {
      "cell_type": "code",
      "source": [
        "<div class=\"grid-container\">\n",
        "  <div class=\"item item1\">Row 1 (span)</div>\n",
        "  <div class=\"item item2\">Col 1</div>\n",
        "  <div class=\"item item3\">Col 2</div>\n",
        "</div>\n"
      ],
      "metadata": {
        "id": "1wfGGSbDWZF0"
      },
      "execution_count": null,
      "outputs": []
    },
    {
      "cell_type": "code",
      "source": [
        ".grid-container {\n",
        "  display: grid;\n",
        "  grid-template-columns: 1fr 1fr;\n",
        "  grid-template-rows: auto auto;\n",
        "  gap: 10px;\n",
        "}\n",
        "\n",
        ".item1 {\n",
        "  grid-column: 1 / span 2;\n",
        "  background-color: lightblue;\n",
        "  padding: 20px;\n",
        "}\n",
        "\n",
        ".item2, .item3 {\n",
        "  background-color: lightgreen;\n",
        "  padding: 20px;\n",
        "}\n"
      ],
      "metadata": {
        "id": "0sIe-RAyWb3Q"
      },
      "execution_count": null,
      "outputs": []
    },
    {
      "cell_type": "markdown",
      "source": [
        "3. Write a media query that changes the background color of the body to light\n",
        "grey when the screen width is less than 600px."
      ],
      "metadata": {
        "id": "cMEzIoLCWhpS"
      }
    },
    {
      "cell_type": "markdown",
      "source": [
        "Answer:"
      ],
      "metadata": {
        "id": "0dU_7Q4XWmlY"
      }
    },
    {
      "cell_type": "code",
      "source": [
        "@media (max-width: 600px) {\n",
        "  body {\n",
        "    background-color: lightgrey;\n",
        "  }\n",
        "}\n"
      ],
      "metadata": {
        "id": "DtEpo-KAWpP4"
      },
      "execution_count": null,
      "outputs": []
    },
    {
      "cell_type": "markdown",
      "source": [
        "4. Create a button that changes its background color to blue and scales up\n",
        "slightly when hovered over, using CSS transitions. Provide the HTML and CSS code\n",
        "snippets."
      ],
      "metadata": {
        "id": "wy2B9X4bWsqP"
      }
    },
    {
      "cell_type": "markdown",
      "source": [
        "Answer:"
      ],
      "metadata": {
        "id": "jbml2FLBWxrK"
      }
    },
    {
      "cell_type": "code",
      "source": [
        "<button class=\"hover-button\">Hover Me</button>\n"
      ],
      "metadata": {
        "id": "blmwxlIUWz61"
      },
      "execution_count": null,
      "outputs": []
    },
    {
      "cell_type": "code",
      "source": [
        ".hover-button {\n",
        "  padding: 10px 20px;\n",
        "  transition: background-color 0.3s, transform 0.3s;\n",
        "}\n",
        "\n",
        ".hover-button:hover {\n",
        "  background-color: blue;\n",
        "  transform: scale(1.05);\n",
        "  color: white;\n",
        "}\n"
      ],
      "metadata": {
        "id": "MWHHy1qAW453"
      },
      "execution_count": null,
      "outputs": []
    },
    {
      "cell_type": "markdown",
      "source": [
        "5. Use the ::before pseudo-element to add a decorative icon before each list\n",
        "item in an unordered list with the class name ‘decorated-list’. Provide the HTML and\n",
        "CSS code snippets."
      ],
      "metadata": {
        "id": "2OmeY9hKW7bk"
      }
    },
    {
      "cell_type": "markdown",
      "source": [
        "Answer:"
      ],
      "metadata": {
        "id": "FC91tIMHXAdb"
      }
    },
    {
      "cell_type": "code",
      "source": [
        "<ul class=\"decorated-list\">\n",
        "  <li>Item One</li>\n",
        "  <li>Item Two</li>\n",
        "  <li>Item Three</li>\n",
        "</ul>\n"
      ],
      "metadata": {
        "id": "6YhFncowXClx"
      },
      "execution_count": null,
      "outputs": []
    },
    {
      "cell_type": "code",
      "source": [
        ".decorated-list li::before {\n",
        "  content: \"★ \";\n",
        "  color: orange;\n",
        "}\n"
      ],
      "metadata": {
        "id": "MfVABqcmXFQ0"
      },
      "execution_count": null,
      "outputs": []
    },
    {
      "cell_type": "markdown",
      "source": [
        "6. Create a simple animation that moves a square box from left to right\n",
        "infinitely. Provide the HTML and CSS code snippets."
      ],
      "metadata": {
        "id": "ZmAGcCk2XHmk"
      }
    },
    {
      "cell_type": "markdown",
      "source": [
        "Answer:"
      ],
      "metadata": {
        "id": "xtgKddgrXNjZ"
      }
    },
    {
      "cell_type": "code",
      "source": [
        "<div class=\"animated-box\"></div>\n"
      ],
      "metadata": {
        "id": "kdAoFqlgXP07"
      },
      "execution_count": null,
      "outputs": []
    },
    {
      "cell_type": "code",
      "source": [
        ".animated-box {\n",
        "  width: 50px;\n",
        "  height: 50px;\n",
        "  background-color: red;\n",
        "  position: relative;\n",
        "  animation: moveRight 3s linear infinite;\n",
        "}\n",
        "\n",
        "@keyframes moveRight {\n",
        "  0% { left: 0; }\n",
        "  100% { left: 100%; }\n",
        "}\n"
      ],
      "metadata": {
        "id": "2MYAYthOXSX2"
      },
      "execution_count": null,
      "outputs": []
    },
    {
      "cell_type": "markdown",
      "source": [
        "7. Explain the difference between position: absolute; and position: fixed;\n",
        "in CSS."
      ],
      "metadata": {
        "id": "8hxTN0eTXUXv"
      }
    },
    {
      "cell_type": "markdown",
      "source": [
        "Answer:"
      ],
      "metadata": {
        "id": "wm5GoEykXaCZ"
      }
    },
    {
      "cell_type": "markdown",
      "source": [
        "position: absolute; positions the element relative to the nearest positioned ancestor (i.e., one with position relative, absolute, or fixed). If no such ancestor exists, it's positioned relative to the <html> element.\n",
        "\n",
        "position: fixed; positions the element relative to the viewport, meaning it stays in place even when the page is scrolled."
      ],
      "metadata": {
        "id": "LGL-ku3PXch8"
      }
    },
    {
      "cell_type": "markdown",
      "source": [
        "8. Create a layered layout where a semi-transparent overlay covers an image\n",
        "using z-index. Provide the HTML and CSS code snippets.\n"
      ],
      "metadata": {
        "id": "1ppeIB-NXhTX"
      }
    },
    {
      "cell_type": "markdown",
      "source": [
        "Answer:"
      ],
      "metadata": {
        "id": "MRT5apUuXoRU"
      }
    },
    {
      "cell_type": "code",
      "source": [
        "<div class=\"image-container\">\n",
        "  <img src=\"image.jpg\" alt=\"Background Image\" class=\"background-image\">\n",
        "  <div class=\"overlay\"></div>\n",
        "</div>\n"
      ],
      "metadata": {
        "id": "n5fgpq69Xs_p"
      },
      "execution_count": null,
      "outputs": []
    },
    {
      "cell_type": "code",
      "source": [
        ".image-container {\n",
        "  position: relative;\n",
        "  width: 300px;\n",
        "  height: 200px;\n",
        "}\n",
        "\n",
        ".background-image {\n",
        "  width: 100%;\n",
        "  height: 100%;\n",
        "  display: block;\n",
        "}\n",
        "\n",
        ".overlay {\n",
        "  position: absolute;\n",
        "  top: 0;\n",
        "  left: 0;\n",
        "  width: 100%;\n",
        "  height: 100%;\n",
        "  background-color: rgba(0, 0, 0, 0.5); /* semi-transparent */\n",
        "  z-index: 1;\n",
        "}\n"
      ],
      "metadata": {
        "id": "mMfEaSH3XvON"
      },
      "execution_count": null,
      "outputs": []
    }
  ]
}